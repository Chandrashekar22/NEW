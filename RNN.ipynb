{
  "nbformat": 4,
  "nbformat_minor": 0,
  "metadata": {
    "colab": {
      "name": "RNN.ipynb",
      "provenance": [],
      "collapsed_sections": []
    },
    "kernelspec": {
      "name": "python3",
      "display_name": "Python 3"
    },
    "language_info": {
      "name": "python"
    }
  },
  "cells": [
    {
      "cell_type": "markdown",
      "metadata": {
        "id": "ZXWHA3MRTOx_"
      },
      "source": [
        "## **Deep Neural Network**"
      ]
    },
    {
      "cell_type": "markdown",
      "metadata": {
        "id": "W6aZUSnUCK0s"
      },
      "source": [
        "RNN"
      ]
    },
    {
      "cell_type": "code",
      "metadata": {
        "id": "cqEYNL4b81Pl"
      },
      "source": [
        "import tensorflow as tf\n",
        "from tensorflow.keras.models import Sequential\n",
        "from tensorflow.keras.layers import Dense, Dropout, LSTM#, CuDNNLSTM\n",
        "import matplotlib.pyplot as plt\n",
        "import numpy as np"
      ],
      "execution_count": 33,
      "outputs": []
    },
    {
      "cell_type": "code",
      "metadata": {
        "colab": {
          "base_uri": "https://localhost:8080/"
        },
        "id": "c4nxuOI29pwX",
        "outputId": "8fe45c1d-a3d1-4d9c-aee4-8407940a43c4"
      },
      "source": [
        "mnist = tf.keras.datasets.mnist  # mnist is a dataset of 28x28 images of handwritten digits and their labels\n",
        "(x_train, y_train),(x_test, y_test) = mnist.load_data()  # unpacks images to x_train/x_test and labels to y_train/y_test"
      ],
      "execution_count": 2,
      "outputs": [
        {
          "output_type": "stream",
          "text": [
            "Downloading data from https://storage.googleapis.com/tensorflow/tf-keras-datasets/mnist.npz\n",
            "11493376/11490434 [==============================] - 0s 0us/step\n"
          ],
          "name": "stdout"
        }
      ]
    },
    {
      "cell_type": "code",
      "metadata": {
        "id": "M5obI8IW9vWb"
      },
      "source": [
        "x_train = x_train/255.0\n",
        "x_test = x_test/255.0"
      ],
      "execution_count": 3,
      "outputs": []
    },
    {
      "cell_type": "code",
      "metadata": {
        "colab": {
          "base_uri": "https://localhost:8080/"
        },
        "id": "1-e_5p_c9v1h",
        "outputId": "c7bb9093-199f-48a8-a7fb-bc0c93e7a4cf"
      },
      "source": [
        "print(x_train.shape)"
      ],
      "execution_count": 4,
      "outputs": [
        {
          "output_type": "stream",
          "text": [
            "(60000, 28, 28)\n"
          ],
          "name": "stdout"
        }
      ]
    },
    {
      "cell_type": "code",
      "metadata": {
        "colab": {
          "base_uri": "https://localhost:8080/"
        },
        "id": "28uWXFdh90BX",
        "outputId": "35a0a9db-e9dc-4876-9c4e-d77502245304"
      },
      "source": [
        "print(x_train[0].shape)"
      ],
      "execution_count": 10,
      "outputs": [
        {
          "output_type": "stream",
          "text": [
            "(28, 28)\n"
          ],
          "name": "stdout"
        }
      ]
    },
    {
      "cell_type": "code",
      "metadata": {
        "colab": {
          "base_uri": "https://localhost:8080/"
        },
        "id": "PNy5U1fKBY0A",
        "outputId": "1a7f541e-3cf1-457b-a8cc-92c0a7a7512a"
      },
      "source": [
        "y_train[:5]"
      ],
      "execution_count": 30,
      "outputs": [
        {
          "output_type": "execute_result",
          "data": {
            "text/plain": [
              "array([5, 0, 4, 1, 9], dtype=uint8)"
            ]
          },
          "metadata": {
            "tags": []
          },
          "execution_count": 30
        }
      ]
    },
    {
      "cell_type": "code",
      "metadata": {
        "id": "iAnet1xq-aPN"
      },
      "source": [
        "classes=['0','1','2','3','4','5','6','7','8','9']"
      ],
      "execution_count": 18,
      "outputs": []
    },
    {
      "cell_type": "code",
      "metadata": {
        "id": "2mgFCYcM92og"
      },
      "source": [
        "def plot_sample(X,y,index):\n",
        "  plt.figure(figsize=(15,2))\n",
        "  plt.imshow(X[index])\n",
        "  plt.xlabel(classes[y[index]])"
      ],
      "execution_count": 19,
      "outputs": []
    },
    {
      "cell_type": "code",
      "metadata": {
        "colab": {
          "base_uri": "https://localhost:8080/",
          "height": 173
        },
        "id": "CqQRvojD-SSg",
        "outputId": "2f32c26a-f090-4d5c-d17a-c9f281ec38da"
      },
      "source": [
        "plot_sample(x_train,y_train,5)"
      ],
      "execution_count": 20,
      "outputs": [
        {
          "output_type": "display_data",
          "data": {
            "image/png": "[encoded data removed]",
            "text/plain": [
              "<Figure size 1080x144 with 1 Axes>"
            ]
          },
          "metadata": {
            "tags": [],
            "needs_background": "light"
          }
        }
      ]
    },
    {
      "cell_type": "code",
      "metadata": {
        "colab": {
          "base_uri": "https://localhost:8080/",
          "height": 173
        },
        "id": "yDEZDu5j_M5k",
        "outputId": "1efe41c4-7ee9-4b71-ea1d-2c42877c6187"
      },
      "source": [
        "plot_sample(x_train,y_train,8)"
      ],
      "execution_count": 21,
      "outputs": [
        {
          "output_type": "display_data",
          "data": {
            "image/png": "[encoded data removed]",
            "text/plain": [
              "<Figure size 1080x144 with 1 Axes>"
            ]
          },
          "metadata": {
            "tags": [],
            "needs_background": "light"
          }
        }
      ]
    },
    {
      "cell_type": "markdown",
      "metadata": {
        "id": "Z3Rw1_STUgAU"
      },
      "source": [
        "building a Recurrent neural network to train our images"
      ]
    },
    {
      "cell_type": "code",
      "metadata": {
        "id": "Zw0Xk0HL_V2H"
      },
      "source": [
        "model = Sequential()"
      ],
      "execution_count": 22,
      "outputs": []
    },
    {
      "cell_type": "code",
      "metadata": {
        "id": "vHGFhIXr_5ui"
      },
      "source": [
        "# IF you are running with a GPU, try out the CuDNNLSTM layer type instead (don't pass an activation, tanh is required)\n",
        "model.add(LSTM(128, input_shape=(x_train.shape[1:]), activation='relu', return_sequences=True))\n",
        "model.add(Dropout(0.2))"
      ],
      "execution_count": 23,
      "outputs": []
    },
    {
      "cell_type": "code",
      "metadata": {
        "id": "4tJGYOhj_87_"
      },
      "source": [
        "model.add(LSTM(128, activation='relu'))\n",
        "model.add(Dropout(0.1))"
      ],
      "execution_count": 24,
      "outputs": []
    },
    {
      "cell_type": "code",
      "metadata": {
        "id": "WlzXq8He__wc"
      },
      "source": [
        "model.add(Dense(32, activation='relu'))\n",
        "model.add(Dropout(0.2))"
      ],
      "execution_count": 25,
      "outputs": []
    },
    {
      "cell_type": "code",
      "metadata": {
        "id": "Xa3Ma8ZOACpW"
      },
      "source": [
        "model.add(Dense(10, activation='softmax'))"
      ],
      "execution_count": 26,
      "outputs": []
    },
    {
      "cell_type": "code",
      "metadata": {
        "colab": {
          "base_uri": "https://localhost:8080/"
        },
        "id": "MtB-XgWfAEyq",
        "outputId": "80777d89-f6b8-42d2-d369-f14a17a3d9ce"
      },
      "source": [
        "opt = tf.keras.optimizers.Adam(lr=0.001, decay=1e-6)"
      ],
      "execution_count": 27,
      "outputs": [
        {
          "output_type": "stream",
          "text": [
            "/usr/local/lib/python3.7/dist-packages/tensorflow/python/keras/optimizer_v2/optimizer_v2.py:375: UserWarning: The `lr` argument is deprecated, use `learning_rate` instead.\n",
            "  \"The `lr` argument is deprecated, use `learning_rate` instead.\")\n"
          ],
          "name": "stderr"
        }
      ]
    },
    {
      "cell_type": "code",
      "metadata": {
        "id": "yBNrrO1AAHKB"
      },
      "source": [
        "# Compile model\n",
        "model.compile(\n",
        "    loss='sparse_categorical_crossentropy',\n",
        "    optimizer=opt,\n",
        "    metrics=['accuracy'],\n",
        ")"
      ],
      "execution_count": 28,
      "outputs": []
    },
    {
      "cell_type": "code",
      "metadata": {
        "colab": {
          "base_uri": "https://localhost:8080/"
        },
        "id": "4ZikOgWNAJpB",
        "outputId": "6b59e7d9-35d2-4e04-d1d0-4d21cb1d0b0c"
      },
      "source": [
        "model.fit(x_train,\n",
        "          y_train,\n",
        "          epochs=3,\n",
        "          validation_data=(x_test, y_test))"
      ],
      "execution_count": 29,
      "outputs": [
        {
          "output_type": "stream",
          "text": [
            "Epoch 1/3\n",
            "1875/1875 [==============================] - 117s 62ms/step - loss: 0.5401 - accuracy: 0.8288 - val_loss: 0.1602 - val_accuracy: 0.9511\n",
            "Epoch 2/3\n",
            "1875/1875 [==============================] - 116s 62ms/step - loss: 0.1524 - accuracy: 0.9591 - val_loss: 0.1108 - val_accuracy: 0.9687\n",
            "Epoch 3/3\n",
            "1875/1875 [==============================] - 116s 62ms/step - loss: 0.1035 - accuracy: 0.9716 - val_loss: 0.0808 - val_accuracy: 0.9801\n"
          ],
          "name": "stdout"
        },
        {
          "output_type": "execute_result",
          "data": {
            "text/plain": [
              "<tensorflow.python.keras.callbacks.History at 0x7f5892ae4a90>"
            ]
          },
          "metadata": {
            "tags": []
          },
          "execution_count": 29
        }
      ]
    },
    {
      "cell_type": "markdown",
      "metadata": {
        "id": "ad382-VrU0zA"
      },
      "source": [
        "Testing"
      ]
    },
    {
      "cell_type": "code",
      "metadata": {
        "colab": {
          "base_uri": "https://localhost:8080/"
        },
        "id": "FSLTJ7juAMVr",
        "outputId": "8a6e283a-ab78-445a-d40b-3b78e0ea3db4"
      },
      "source": [
        "y_pred = model.predict(x_test)\n",
        "y_pred[:5]"
      ],
      "execution_count": 31,
      "outputs": [
        {
          "output_type": "execute_result",
          "data": {
            "text/plain": [
              "array([[2.02522976e-08, 2.59571570e-05, 3.78129567e-04, 8.06802564e-05,\n",
              "        6.39283235e-06, 1.02457238e-06, 8.24419092e-12, 9.99396205e-01,\n",
              "        6.91512878e-06, 1.04759783e-04],\n",
              "       [7.47151635e-13, 4.49997875e-14, 1.00000000e+00, 5.89521444e-12,\n",
              "        7.46288326e-21, 2.17529416e-16, 2.00896649e-15, 4.78334820e-13,\n",
              "        2.97641957e-15, 2.16587328e-22],\n",
              "       [1.10263215e-07, 9.99927402e-01, 3.60712465e-06, 1.22512370e-06,\n",
              "        2.87642251e-07, 1.57214652e-06, 5.81980885e-06, 3.61220918e-06,\n",
              "        5.62216737e-05, 1.62340200e-07],\n",
              "       [9.99950647e-01, 2.12773958e-08, 2.08142519e-05, 2.97269782e-08,\n",
              "        4.55326614e-07, 2.05849542e-08, 1.38990408e-05, 6.80419632e-08,\n",
              "        1.36011613e-05, 4.50163554e-07],\n",
              "       [5.04335636e-11, 1.58628902e-13, 6.00714628e-13, 1.00205685e-16,\n",
              "        9.99999166e-01, 1.51211536e-13, 1.68171685e-10, 6.21099656e-12,\n",
              "        2.45294096e-09, 8.78065919e-07]], dtype=float32)"
            ]
          },
          "metadata": {
            "tags": []
          },
          "execution_count": 31
        }
      ]
    },
    {
      "cell_type": "code",
      "metadata": {
        "colab": {
          "base_uri": "https://localhost:8080/"
        },
        "id": "n3UHJWgsAX4T",
        "outputId": "53f6e5d3-da16-46ca-aae1-a56fc65f63b1"
      },
      "source": [
        "y_classes = [np.argmax(element) for element in y_pred]\n",
        "y_classes[:5]"
      ],
      "execution_count": 34,
      "outputs": [
        {
          "output_type": "execute_result",
          "data": {
            "text/plain": [
              "[7, 2, 1, 0, 4]"
            ]
          },
          "metadata": {
            "tags": []
          },
          "execution_count": 34
        }
      ]
    },
    {
      "cell_type": "code",
      "metadata": {
        "colab": {
          "base_uri": "https://localhost:8080/"
        },
        "id": "1KbdSpXKAaqp",
        "outputId": "434172ae-90a1-4e20-a73b-8966f0d66cd3"
      },
      "source": [
        "y_test[:5]"
      ],
      "execution_count": 35,
      "outputs": [
        {
          "output_type": "execute_result",
          "data": {
            "text/plain": [
              "array([7, 2, 1, 0, 4], dtype=uint8)"
            ]
          },
          "metadata": {
            "tags": []
          },
          "execution_count": 35
        }
      ]
    },
    {
      "cell_type": "code",
      "metadata": {
        "colab": {
          "base_uri": "https://localhost:8080/",
          "height": 173
        },
        "id": "XHDLHADiAath",
        "outputId": "1d6abbe2-5458-495e-df30-e87d00a57ea6"
      },
      "source": [
        "plot_sample(x_test, y_test,3)"
      ],
      "execution_count": 36,
      "outputs": [
        {
          "output_type": "display_data",
          "data": {
            "image/png": "[encoded data removed]",
            "text/plain": [
              "<Figure size 1080x144 with 1 Axes>"
            ]
          },
          "metadata": {
            "tags": [],
            "needs_background": "light"
          }
        }
      ]
    },
    {
      "cell_type": "code",
      "metadata": {
        "colab": {
          "base_uri": "https://localhost:8080/",
          "height": 35
        },
        "id": "C4a5GYQYAeAQ",
        "outputId": "268f9223-71f8-4e71-c98f-c52dc0e3b7f7"
      },
      "source": [
        "classes[y_classes[3]]"
      ],
      "execution_count": 37,
      "outputs": [
        {
          "output_type": "execute_result",
          "data": {
            "application/vnd.google.colaboratory.intrinsic+json": {
              "type": "string"
            },
            "text/plain": [
              "'0'"
            ]
          },
          "metadata": {
            "tags": []
          },
          "execution_count": 37
        }
      ]
    },
    {
      "cell_type": "code",
      "metadata": {
        "colab": {
          "base_uri": "https://localhost:8080/",
          "height": 173
        },
        "id": "grJ04IuSAeBx",
        "outputId": "4246682a-bd3f-4b5d-98b7-0dbf666f26dc"
      },
      "source": [
        "plot_sample(x_test, y_test,34)"
      ],
      "execution_count": 38,
      "outputs": [
        {
          "output_type": "display_data",
          "data": {
            "image/png": "[encoded data removed]",
            "text/plain": [
              "<Figure size 1080x144 with 1 Axes>"
            ]
          },
          "metadata": {
            "tags": [],
            "needs_background": "light"
          }
        }
      ]
    },
    {
      "cell_type": "code",
      "metadata": {
        "colab": {
          "base_uri": "https://localhost:8080/",
          "height": 35
        },
        "id": "NozX6p1MAeFJ",
        "outputId": "eaa62739-3246-4d94-8da7-460aee2715da"
      },
      "source": [
        "classes[y_classes[34]]"
      ],
      "execution_count": 39,
      "outputs": [
        {
          "output_type": "execute_result",
          "data": {
            "application/vnd.google.colaboratory.intrinsic+json": {
              "type": "string"
            },
            "text/plain": [
              "'7'"
            ]
          },
          "metadata": {
            "tags": []
          },
          "execution_count": 39
        }
      ]
    }
  ]
}