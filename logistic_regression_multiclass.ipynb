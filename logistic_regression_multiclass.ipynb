{
  "nbformat": 4,
  "nbformat_minor": 0,
  "metadata": {
    "kernelspec": {
      "display_name": "Python 3",
      "language": "python",
      "name": "python3"
    },
    "language_info": {
      "codemirror_mode": {
        "name": "ipython",
        "version": 3
      },
      "file_extension": ".py",
      "mimetype": "text/x-python",
      "name": "python",
      "nbconvert_exporter": "python",
      "pygments_lexer": "ipython3",
      "version": "3.6.3"
    },
    "colab": {
      "name": "logistic_regression_multiclass.ipynb",
      "provenance": []
    }
  },
  "cells": [
    {
      "cell_type": "code",
      "metadata": {
        "collapsed": true,
        "id": "6GQX27wrRqil"
      },
      "source": [
        "from sklearn.datasets import load_digits\n",
        "import numpy as np\n",
        "%matplotlib inline\n",
        "import matplotlib.pyplot as plt\n",
        "digits = load_digits()"
      ],
      "execution_count": 79,
      "outputs": []
    },
    {
      "cell_type": "code",
      "metadata": {
        "id": "PDZ0Wm-wRqio",
        "colab": {
          "base_uri": "https://localhost:8080/"
        },
        "outputId": "2b578f86-67e9-41c5-e64f-8af565f5040c"
      },
      "source": [
        "dir(digits)"
      ],
      "execution_count": 80,
      "outputs": [
        {
          "output_type": "execute_result",
          "data": {
            "text/plain": [
              "['DESCR', 'data', 'images', 'target', 'target_names']"
            ]
          },
          "metadata": {
            "tags": []
          },
          "execution_count": 80
        }
      ]
    },
    {
      "cell_type": "code",
      "metadata": {
        "id": "gARP07gpRqio",
        "colab": {
          "base_uri": "https://localhost:8080/"
        },
        "outputId": "818cf609-ebd1-4c9b-b642-0f86c079484c"
      },
      "source": [
        "digits.data[0]"
      ],
      "execution_count": 81,
      "outputs": [
        {
          "output_type": "execute_result",
          "data": {
            "text/plain": [
              "array([ 0.,  0.,  5., 13.,  9.,  1.,  0.,  0.,  0.,  0., 13., 15., 10.,\n",
              "       15.,  5.,  0.,  0.,  3., 15.,  2.,  0., 11.,  8.,  0.,  0.,  4.,\n",
              "       12.,  0.,  0.,  8.,  8.,  0.,  0.,  5.,  8.,  0.,  0.,  9.,  8.,\n",
              "        0.,  0.,  4., 11.,  0.,  1., 12.,  7.,  0.,  0.,  2., 14.,  5.,\n",
              "       10., 12.,  0.,  0.,  0.,  0.,  6., 13., 10.,  0.,  0.,  0.])"
            ]
          },
          "metadata": {
            "tags": []
          },
          "execution_count": 81
        }
      ]
    },
    {
      "cell_type": "code",
      "metadata": {
        "collapsed": true,
        "id": "q6dRdKl8Rqiq",
        "colab": {
          "base_uri": "https://localhost:8080/"
        },
        "outputId": "2f997a9b-487f-4a75-8856-b9302f4787e1"
      },
      "source": [
        "from sklearn.model_selection import train_test_split\n",
        "X_train, X_test, y_train, y_test = train_test_split(digits.data,digits.target, test_size=0.2)\n",
        "X_train"
      ],
      "execution_count": 82,
      "outputs": [
        {
          "output_type": "execute_result",
          "data": {
            "text/plain": [
              "array([[ 0.,  0.,  0., ..., 16.,  8.,  0.],\n",
              "       [ 0.,  0., 13., ..., 12.,  2.,  0.],\n",
              "       [ 0.,  0.,  4., ...,  2.,  0.,  0.],\n",
              "       ...,\n",
              "       [ 0.,  0.,  1., ..., 16., 13.,  3.],\n",
              "       [ 0.,  3., 12., ...,  6.,  0.,  0.],\n",
              "       [ 0.,  1., 11., ..., 15., 11.,  0.]])"
            ]
          },
          "metadata": {
            "tags": []
          },
          "execution_count": 82
        }
      ]
    },
    {
      "cell_type": "code",
      "metadata": {
        "id": "vBNHvbyqTMZU"
      },
      "source": [
        "def plot_show(X,y,index):\n",
        "  img = np.array(X[index])\n",
        "  img=img.reshape(8, 8)\n",
        "  plt.imshow(img)\n",
        "  plt.xlabel(y[index])"
      ],
      "execution_count": 83,
      "outputs": []
    },
    {
      "cell_type": "code",
      "metadata": {
        "colab": {
          "base_uri": "https://localhost:8080/",
          "height": 278
        },
        "id": "XlBRlyfRTQIw",
        "outputId": "31fcc364-ff05-4aee-f5a0-ddbd8dee2e38"
      },
      "source": [
        "plot_show(X_train,y_train,2)"
      ],
      "execution_count": 84,
      "outputs": [
        {
          "output_type": "display_data",
          "data": {
            "image/png": "[encoded data removed]",
            "text/plain": [
              "<Figure size 432x288 with 1 Axes>"
            ]
          },
          "metadata": {
            "tags": [],
            "needs_background": "light"
          }
        }
      ]
    },
    {
      "cell_type": "code",
      "metadata": {
        "colab": {
          "base_uri": "https://localhost:8080/",
          "height": 278
        },
        "id": "FG-HUPn2bpmO",
        "outputId": "aebebe07-97e5-4f04-89b3-86436d7c0aa0"
      },
      "source": [
        "plot_show(X_train,y_train,344)"
      ],
      "execution_count": 85,
      "outputs": [
        {
          "output_type": "display_data",
          "data": {
            "image/png": "[encoded data removed]",
            "text/plain": [
              "<Figure size 432x288 with 1 Axes>"
            ]
          },
          "metadata": {
            "tags": [],
            "needs_background": "light"
          }
        }
      ]
    },
    {
      "cell_type": "code",
      "metadata": {
        "collapsed": true,
        "id": "xvmEm-0VRqip",
        "colab": {
          "base_uri": "https://localhost:8080/"
        },
        "outputId": "287412b3-2057-46c8-b48f-eae04175e59d"
      },
      "source": [
        "from sklearn.linear_model import LogisticRegression\n",
        "model = LogisticRegression(max_iter=1000,solver='liblinear')\n",
        "model.fit(X_train, y_train)"
      ],
      "execution_count": 91,
      "outputs": [
        {
          "output_type": "execute_result",
          "data": {
            "text/plain": [
              "LogisticRegression(C=1.0, class_weight=None, dual=False, fit_intercept=True,\n",
              "                   intercept_scaling=1, l1_ratio=None, max_iter=1000,\n",
              "                   multi_class='auto', n_jobs=None, penalty='l2',\n",
              "                   random_state=None, solver='liblinear', tol=0.0001, verbose=0,\n",
              "                   warm_start=False)"
            ]
          },
          "metadata": {
            "tags": []
          },
          "execution_count": 91
        }
      ]
    },
    {
      "cell_type": "code",
      "metadata": {
        "id": "L1Pim0SoRqir",
        "colab": {
          "base_uri": "https://localhost:8080/"
        },
        "outputId": "95ae42b6-0545-4708-8e5d-897a93d8b1f4"
      },
      "source": [
        "model.score(X_test, y_test)"
      ],
      "execution_count": 92,
      "outputs": [
        {
          "output_type": "execute_result",
          "data": {
            "text/plain": [
              "0.9583333333333334"
            ]
          },
          "metadata": {
            "tags": []
          },
          "execution_count": 92
        }
      ]
    },
    {
      "cell_type": "code",
      "metadata": {
        "collapsed": true,
        "id": "j9ILboRIRqis"
      },
      "source": [
        "y_predicted = model.predict(X_test)"
      ],
      "execution_count": 94,
      "outputs": []
    },
    {
      "cell_type": "code",
      "metadata": {
        "colab": {
          "base_uri": "https://localhost:8080/",
          "height": 278
        },
        "id": "KLFTzRJfc7pk",
        "outputId": "d8cc09f2-973c-47d2-9881-f4c3bb7b7a40"
      },
      "source": [
        "plot_show(X_test,y_predicted,34)"
      ],
      "execution_count": 95,
      "outputs": [
        {
          "output_type": "display_data",
          "data": {
            "image/png": "[encoded data removed]",
            "text/plain": [
              "<Figure size 432x288 with 1 Axes>"
            ]
          },
          "metadata": {
            "tags": [],
            "needs_background": "light"
          }
        }
      ]
    },
    {
      "cell_type": "code",
      "metadata": {
        "colab": {
          "base_uri": "https://localhost:8080/",
          "height": 278
        },
        "id": "BtMKhgGRdDdT",
        "outputId": "017d6473-ccc7-4a68-ed1f-ab9f95e7459d"
      },
      "source": [
        "plot_show(X_test,y_predicted,74)"
      ],
      "execution_count": 96,
      "outputs": [
        {
          "output_type": "display_data",
          "data": {
            "image/png": "[encoded data removed]",
            "text/plain": [
              "<Figure size 432x288 with 1 Axes>"
            ]
          },
          "metadata": {
            "tags": [],
            "needs_background": "light"
          }
        }
      ]
    },
    {
      "cell_type": "markdown",
      "metadata": {
        "id": "82bJOPkVRqis"
      },
      "source": [
        "<h4 style='color:purple'>Confusion Matrix</h4>"
      ]
    },
    {
      "cell_type": "code",
      "metadata": {
        "id": "HaEumgZERqis",
        "colab": {
          "base_uri": "https://localhost:8080/"
        },
        "outputId": "f30f346a-523a-4f9b-c507-e6d6bcceee88"
      },
      "source": [
        "from sklearn.metrics import confusion_matrix\n",
        "cm = confusion_matrix(y_test, y_predicted)\n",
        "cm"
      ],
      "execution_count": 97,
      "outputs": [
        {
          "output_type": "execute_result",
          "data": {
            "text/plain": [
              "array([[33,  0,  0,  0,  0,  0,  0,  0,  0,  0],\n",
              "       [ 0, 33,  0,  0,  0,  1,  0,  0,  3,  0],\n",
              "       [ 0,  1, 27,  0,  0,  0,  0,  0,  0,  0],\n",
              "       [ 0,  0,  1, 34,  0,  0,  0,  0,  0,  0],\n",
              "       [ 0,  0,  0,  0, 44,  0,  0,  0,  0,  0],\n",
              "       [ 0,  0,  0,  0,  0, 37,  1,  0,  0,  0],\n",
              "       [ 0,  0,  0,  0,  0,  0, 32,  0,  0,  0],\n",
              "       [ 0,  0,  0,  0,  0,  0,  0, 32,  1,  1],\n",
              "       [ 0,  1,  1,  0,  0,  0,  0,  0, 38,  1],\n",
              "       [ 0,  0,  0,  1,  0,  0,  0,  0,  2, 35]])"
            ]
          },
          "metadata": {
            "tags": []
          },
          "execution_count": 97
        }
      ]
    },
    {
      "cell_type": "code",
      "metadata": {
        "id": "vUHBLDfURqit",
        "colab": {
          "base_uri": "https://localhost:8080/",
          "height": 460
        },
        "outputId": "00bf049f-4465-42ee-d106-953ebaf73856"
      },
      "source": [
        "import seaborn as sn\n",
        "plt.figure(figsize = (10,7))\n",
        "sn.heatmap(cm, annot=True)\n",
        "plt.xlabel('Predicted')\n",
        "plt.ylabel('Truth')"
      ],
      "execution_count": 98,
      "outputs": [
        {
          "output_type": "execute_result",
          "data": {
            "text/plain": [
              "Text(69.0, 0.5, 'Truth')"
            ]
          },
          "metadata": {
            "tags": []
          },
          "execution_count": 98
        },
        {
          "output_type": "display_data",
          "data": {
            "image/png": "[encoded data removed]",
            "text/plain": [
              "<Figure size 720x504 with 2 Axes>"
            ]
          },
          "metadata": {
            "tags": [],
            "needs_background": "light"
          }
        }
      ]
    },
    {
      "cell_type": "code",
      "metadata": {
        "id": "I8LQ2r6YdIeU"
      },
      "source": [
        ""
      ],
      "execution_count": null,
      "outputs": []
    }
  ]
}